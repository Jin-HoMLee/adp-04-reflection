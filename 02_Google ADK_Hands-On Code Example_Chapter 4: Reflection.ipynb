{
 "cells": [
  {
   "cell_type": "markdown",
   "id": "7364143e",
   "metadata": {},
   "source": [
    "# Chapter 2: Routing"
   ]
  },
  {
   "cell_type": "markdown",
   "id": "4bcebe1b",
   "metadata": {},
   "source": [
    "## Hands-On Code Example (Google ADK)"
   ]
  },
  {
   "cell_type": "markdown",
   "id": "5a428add",
   "metadata": {},
   "source": [
    "> Adapted and modified from https://docs.google.com/document/d/1HXXJOQIMWowtLw4WMiSR360caDAlZPtl5dPPgvq9IT4/edit?tab=t.0\n",
    "> \n",
    "> Di 30 Sep 2025 12:53:46 BST"
   ]
  },
  {
   "cell_type": "markdown",
   "id": "b69354dd",
   "metadata": {},
   "source": [
    "Let's now look at a conceptual code example implemented using the Google ADK.  Specifically, the code showcases this by employing a Generator-Critic structure, where one component (the Generator) produces an initial result or plan, and another component (the Critic) provides critical feedback or a critique, guiding the Generator towards a more refined or accurate final output."
   ]
  },
  {
   "cell_type": "code",
   "execution_count": 1,
   "id": "a33347b0",
   "metadata": {},
   "outputs": [],
   "source": [
    "from google.adk.agents import SequentialAgent, LlmAgent"
   ]
  },
  {
   "cell_type": "code",
   "execution_count": 2,
   "id": "c308e948",
   "metadata": {},
   "outputs": [],
   "source": [
    "# The first agent generates the initial draft.\n",
    "generator = LlmAgent(\n",
    "   name=\"DraftWriter\",\n",
    "   description=\"Generates initial draft content on a given subject.\",\n",
    "   instruction=\"Write a short, informative paragraph about the user's subject.\",\n",
    "   output_key=\"draft_text\" # The output is saved to this state key.\n",
    ")\n",
    "\n",
    "# The second agent critiques the draft from the first agent.\n",
    "reviewer = LlmAgent(\n",
    "   name=\"FactChecker\",\n",
    "   description=\"Reviews a given text for factual accuracy and provides a structured critique.\",\n",
    "   instruction=\"\"\"\n",
    "   You are a meticulous fact-checker.\n",
    "   1. Read the text provided in the state key 'draft_text'.\n",
    "   2. Carefully verify the factual accuracy of all claims.\n",
    "   3. Your final output must be a dictionary containing two keys:\n",
    "      - \"status\": A string, either \"ACCURATE\" or \"INACCURATE\".\n",
    "      - \"reasoning\": A string providing a clear explanation for your status, citing specific issues if any are found.\n",
    "   \"\"\",\n",
    "   output_key=\"review_output\" # The structured dictionary is saved here.\n",
    ")\n",
    "\n",
    "# The SequentialAgent ensures the generator runs before the reviewer.\n",
    "review_pipeline = SequentialAgent(\n",
    "   name=\"WriteAndReview_Pipeline\",\n",
    "   sub_agents=[generator, reviewer]\n",
    ")\n",
    "\n",
    "# Execution Flow:\n",
    "# 1. generator runs -> saves its paragraph to state['draft_text'].\n",
    "# 2. reviewer runs -> reads state['draft_text'] and saves its dictionary output to state['review_output'].\n"
   ]
  },
  {
   "cell_type": "markdown",
   "id": "4415c926",
   "metadata": {},
   "source": [
    "This code demonstrates the use of a sequential agent pipeline in Google ADK  for generating and reviewing text. It defines two LlmAgent instances: generator and reviewer. The generator agent is designed to create an initial draft paragraph on a given subject. It is instructed to write a short and informative piece and saves its output to the state key draft_text. The reviewer agent acts as a fact-checker for the text produced by the generator. It is instructed to read the text from draft_text and verify its factual accuracy. The reviewer's output is a structured dictionary with two keys: status and reasoning. status indicates if the text is \"ACCURATE\" or \"INACCURATE\", while reasoning provides an explanation for the status. This dictionary is saved to the state key review_output. A SequentialAgent named review_pipeline is created to manage the execution order of the two agents. It ensures that the generator runs first, followed by the reviewer. The overall execution flow is that the generator produces text, which is then saved to the state. Subsequently, the reviewer reads this text from the state, performs its fact-checking, and saves its findings (the status and reasoning) back to the state. This pipeline allows for a structured process of content creation and review using separate agents. \n",
    "**Note**: An alternative implementation utilizing ADK's LoopAgent is also available for those interested.\n",
    "\n",
    "Before concluding, it's important to consider that while the Reflection pattern significantly enhances output quality, it comes with important trade-offs. The iterative process, though powerful, can lead to higher costs and latency, since every refinement loop may require a new LLM call, making it suboptimal for time-sensitive applications. Furthermore, the pattern is memory-intensive; with each iteration, the conversational history expands, including the initial output, critique, and subsequent refinements."
   ]
  },
  {
   "cell_type": "markdown",
   "id": "2c3850b6",
   "metadata": {},
   "source": []
  }
 ],
 "metadata": {
  "kernelspec": {
   "display_name": ".venv",
   "language": "python",
   "name": "python3"
  },
  "language_info": {
   "codemirror_mode": {
    "name": "ipython",
    "version": 3
   },
   "file_extension": ".py",
   "mimetype": "text/x-python",
   "name": "python",
   "nbconvert_exporter": "python",
   "pygments_lexer": "ipython3",
   "version": "3.13.5"
  }
 },
 "nbformat": 4,
 "nbformat_minor": 5
}
